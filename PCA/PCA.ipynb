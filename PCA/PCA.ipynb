{
 "cells": [
  {
   "cell_type": "code",
   "execution_count": 1,
   "metadata": {
    "collapsed": false
   },
   "outputs": [],
   "source": [
    "import numpy as np\n",
    "import matplotlib.pyplot as plt\n",
    "# %matplotlib inline"
   ]
  },
  {
   "cell_type": "code",
   "execution_count": 2,
   "metadata": {
    "collapsed": false
   },
   "outputs": [],
   "source": [
    "with open(\"room-temperature.csv\") as f:\n",
    "    next(f)\n",
    "    t1,t2,t3,t4= np.loadtxt(f,delimiter=',',usecols=(1,2,3,4) ,unpack=True)"
   ]
  },
  {
   "cell_type": "code",
   "execution_count": 3,
   "metadata": {
    "collapsed": false
   },
   "outputs": [],
   "source": [
    "ts =[]\n",
    "for i in range(len(t1)):\n",
    "    ts.append(i)"
   ]
  },
  {
   "cell_type": "code",
   "execution_count": 4,
   "metadata": {
    "collapsed": false
   },
   "outputs": [],
   "source": [
    "# plt.plot(ts,t1)\n",
    "# plt.plot(ts,t2)\n",
    "# plt.plot(ts,t3)\n",
    "# plt.plot(ts,t4)\n",
    "# plt.xlabel(\"Tiempo\")\n",
    "# plt.ylabel(\"Temperatura\")\n",
    "# plt.savefig(\"room.pdf\")"
   ]
  },
  {
   "cell_type": "code",
   "execution_count": 5,
   "metadata": {
    "collapsed": false
   },
   "outputs": [],
   "source": [
    "plt.figure(figsize=(15,15))\n",
    "f, (ax1, ax2, ax3,ax4) = plt.subplots(4, sharex=True, sharey=True)\n",
    "ax1.plot(ts, t1)\n",
    "ax1.set_title('Temperatura vs tiempo')\n",
    "ax2.plot(ts, t2)\n",
    "ax3.plot(ts,t3)\n",
    "ax4.plot(ts,t4)\n",
    "# Fine-tune figure; make subplots close to each other and hide x ticks for\n",
    "# all but bottom plot.\n",
    "plt.xlabel(\"Tiempo\")\n",
    "ax2.set_ylabel(\"Temperatura\")\n",
    "f.subplots_adjust(hspace=0)\n",
    "plt.savefig(\"room.pdf\")"
   ]
  },
  {
   "cell_type": "code",
   "execution_count": 6,
   "metadata": {
    "collapsed": false
   },
   "outputs": [],
   "source": [
    "t1p = sum(t1)/len(t1)\n",
    "t2p = sum(t2)/len(t1)\n",
    "t3p = sum(t3)/len(t1)\n",
    "t4p = sum(t4)/len(t1)\n",
    "t1std = np.std(t1)\n",
    "t2std = np.std(t2)\n",
    "t3std = np.std(t3)\n",
    "t4std = np.std(t4)\n",
    "\n",
    "t1 = (t1- t1p)/t1std\n",
    "t2 = (t2- t2p)/t2std\n",
    "t3 = (t3- t3p)/t3std\n",
    "t4 = (t4- t4p)/t4std\n",
    "\n"
   ]
  },
  {
   "cell_type": "code",
   "execution_count": 7,
   "metadata": {
    "collapsed": true
   },
   "outputs": [],
   "source": [
    "data = []\n",
    "data.append(t1)\n",
    "data.append(t2)\n",
    "data.append(t3)\n",
    "data.append(t4)\n",
    "data = np.array(data)"
   ]
  },
  {
   "cell_type": "code",
   "execution_count": 8,
   "metadata": {
    "collapsed": false
   },
   "outputs": [
    {
     "name": "stdout",
     "output_type": "stream",
     "text": [
      "La matriz de covarianza es:\n",
      "[[ 1.00699301  0.85843736  0.56224176  0.60990539]\n",
      " [ 0.85843736  1.00699301  0.59178547  0.64356475]\n",
      " [ 0.56224176  0.59178547  1.00699301  0.89020112]\n",
      " [ 0.60990539  0.64356475  0.89020112  1.00699301]]\n"
     ]
    }
   ],
   "source": [
    "cov_matrix = np.cov(data)\n",
    "print(\"La matriz de covarianza es:\")\n",
    "print(cov_matrix)"
   ]
  },
  {
   "cell_type": "code",
   "execution_count": 9,
   "metadata": {
    "collapsed": false
   },
   "outputs": [
    {
     "name": "stdout",
     "output_type": "stream",
     "text": [
      "La primera componente principal es [-0.49127375 -0.50211307 -0.49486494 -0.51150881] con el valor 3.08574919456\n",
      "La segunda componente principal es [-0.5308801  -0.47235221  0.53968805  0.4514272 ] con el valor 0.68059491818\n",
      "La primera componente principal explica el 0.766080095177 % de la varianza.\n",
      "La segunda componente principal explica el 0.168967141145 % de la varianza.\n"
     ]
    }
   ],
   "source": [
    "values, vectors = np.linalg.eig(cov_matrix)\n",
    "sumvar = sum(values)\n",
    "values=values[:2]\n",
    "vectors = vectors[:,:2]\n",
    "\n",
    "print(\"La primera componente principal es \"+ str(vectors.T[0])+\" con el valor \"+str(values[0]))\n",
    "print(\"La segunda componente principal es \"+ str(vectors.T[1])+\" con el valor \"+str(values[1]))\n",
    "\n",
    "print(\"La primera componente principal explica el \"+ str(values[0]/sumvar)+ \" % de la varianza.\")\n",
    "print(\"La segunda componente principal explica el \"+ str(values[1]/sumvar)+ \" % de la varianza.\")"
   ]
  },
  {
   "cell_type": "code",
   "execution_count": 10,
   "metadata": {
    "collapsed": false
   },
   "outputs": [],
   "source": [
    "plt.figure(figsize = (10,10))\n",
    "xmin = min(t2)\n",
    "xmax = max(t2)\n",
    "xs = np.linspace(xmin,xmax,1000)\n",
    "m1 = vectors.T[0][0]/vectors.T[0][1]\n",
    "m2 = vectors.T[1][0]/vectors.T[1][1]\n",
    "plt.scatter(t2,t1)\n",
    "plt.plot(xs,m1*xs)\n",
    "plt.plot(xs,m2*xs)\n",
    "plt.xlabel(\"Temp Front Right\")\n",
    "plt.ylabel(\"Temp Front Left\")\n",
    "plt.title(\"Front right vs front left\")\n",
    "plt.savefig(\"pca_fr_fl.pdf\")"
   ]
  },
  {
   "cell_type": "code",
   "execution_count": null,
   "metadata": {
    "collapsed": true
   },
   "outputs": [],
   "source": []
  },
  {
   "cell_type": "code",
   "execution_count": 11,
   "metadata": {
    "collapsed": false
   },
   "outputs": [],
   "source": [
    "plt.figure(figsize = (10,10))\n",
    "xmin = min(t2)\n",
    "xmax = max(t2)\n",
    "xs = np.linspace(xmin,xmax,1000)\n",
    "m1 = vectors.T[0][0]/vectors.T[0][2]\n",
    "m2 = vectors.T[1][0]/vectors.T[1][2]\n",
    "\n",
    "plt.plot(xs,m1*xs)\n",
    "plt.plot(xs,m2*xs)\n",
    "plt.scatter(t3,t1)\n",
    "plt.xlabel(\"Temp Back Left\")\n",
    "plt.ylabel(\"Temp Front Left\")\n",
    "plt.title(\"Back left vs front left\")\n",
    "plt.savefig(\"pca_bl_fl.pdf\")"
   ]
  },
  {
   "cell_type": "code",
   "execution_count": null,
   "metadata": {
    "collapsed": true
   },
   "outputs": [],
   "source": []
  },
  {
   "cell_type": "code",
   "execution_count": null,
   "metadata": {
    "collapsed": true
   },
   "outputs": [],
   "source": []
  }
 ],
 "metadata": {
  "kernelspec": {
   "display_name": "Python 2",
   "language": "python",
   "name": "python2"
  },
  "language_info": {
   "codemirror_mode": {
    "name": "ipython",
    "version": 2
   },
   "file_extension": ".py",
   "mimetype": "text/x-python",
   "name": "python",
   "nbconvert_exporter": "python",
   "pygments_lexer": "ipython2",
   "version": "2.7.6"
  }
 },
 "nbformat": 4,
 "nbformat_minor": 0
}
