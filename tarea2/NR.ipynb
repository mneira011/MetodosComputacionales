{
 "cells": [
  {
   "cell_type": "code",
   "execution_count": 112,
   "metadata": {
    "collapsed": true
   },
   "outputs": [],
   "source": [
    "import numpy as np\n",
    "import matplotlib.pyplot as plt\n",
    "from scipy import linalg"
   ]
  },
  {
   "cell_type": "code",
   "execution_count": 91,
   "metadata": {
    "collapsed": false
   },
   "outputs": [],
   "source": [
    "#inicializamosparametros\n",
    "W1 = 10\n",
    "W2 = 20\n",
    "L = 8\n",
    "L1 = 3\n",
    "L2 = 4\n",
    "L3 = 4\n",
    "x1=0.0\n",
    "x2=0.0\n",
    "x3=0.0\n",
    "x4=0.0\n",
    "x5=0.0\n",
    "x6=0.0\n",
    "x7=0.0\n",
    "x8=0.0\n",
    "x9=0.0\n",
    "umbral = 10**-3\n"
   ]
  },
  {
   "cell_type": "code",
   "execution_count": 92,
   "metadata": {
    "collapsed": true
   },
   "outputs": [],
   "source": [
    "# x1=np.sin(thet1)\n",
    "# x2=np.sin(thet2)\n",
    "# x3=np.sin(thet3)\n",
    "# x4=np.cos(thet1)\n",
    "# x5=np.cos(thet2)\n",
    "# x6=np.cos(thet3)\n",
    "# x7=T1\n",
    "# x8=T2\n",
    "# x9=Tf"
   ]
  },
  {
   "cell_type": "code",
   "execution_count": 93,
   "metadata": {
    "collapsed": true
   },
   "outputs": [],
   "source": [
    "\n",
    "def calcfs(x):\n",
    "    fs = []\n",
    "    x1 = x[0]\n",
    "    x2 = x[1]\n",
    "    x3 = x[2]\n",
    "    x4 = x[3]\n",
    "    x5 = x[4]\n",
    "    x6 = x[5]\n",
    "    x7 = x[6]\n",
    "    x8 = x[7]\n",
    "    x9 = x[8]\n",
    "    f1=L1*x4+L2*x5+L3*x6-L\n",
    "    f2=L1*x1 + L2*x2 -L3*x3\n",
    "    f3=x7*x1 - x8*x2 -W1\n",
    "    f4=x7*x4 -x8*x5\n",
    "    f5=x8*x2+x9*x3-W2\n",
    "    f6=x8*x5-x9*x6\n",
    "    f7=x1**2 + x4**2 -1\n",
    "    f8=x2**2 +x5**2 -1\n",
    "    f9=x3**2 + x6**2 -1\n",
    "    fs.append(f1)\n",
    "    fs.append(f2)\n",
    "    fs.append(f3)\n",
    "    fs.append(f4)\n",
    "    fs.append(f5)\n",
    "    fs.append(f6)\n",
    "    fs.append(f7)\n",
    "    fs.append(f8)\n",
    "    fs.append(f9)\n",
    "    fs = np.array(fs)\n",
    "    return fs"
   ]
  },
  {
   "cell_type": "code",
   "execution_count": null,
   "metadata": {
    "collapsed": true
   },
   "outputs": [],
   "source": []
  },
  {
   "cell_type": "code",
   "execution_count": 94,
   "metadata": {
    "collapsed": false
   },
   "outputs": [],
   "source": [
    "def calcF(x):\n",
    "    global F\n",
    "    x1 = x[0]\n",
    "    x2 = x[1]\n",
    "    x3 = x[2]\n",
    "    x4 = x[3]\n",
    "    x5 = x[4]\n",
    "    x6 = x[5]\n",
    "    x7 = x[6]\n",
    "    x8 = x[7]\n",
    "    x9 = x[8]\n",
    "    F = np.array([[0.0 ,0.0 ,0.0 ,L1 ,L2 ,L3 ,0.0,0.0,0.0],\n",
    "              [L1 ,L2 ,-1*L3,0.0 ,0.0 ,0.0 ,0.0,0.0,0.0],\n",
    "              [x7  ,-x8 , 0.0,0.0 ,0.0 ,0.0 ,x1 ,-x2,0.0],\n",
    "              [0.0 ,0.0 ,0.0 ,x7  ,-x8 ,0.0 ,x4 ,-x5,0.0],\n",
    "              [0.0 ,x8  ,x9  ,0.0 ,0.0 ,0.0 ,0.0,x3 , x3],\n",
    "              [0.0 ,0.0 ,0.0 ,0.0 ,x8  ,-x9 ,0.0,x5 ,-x6],\n",
    "              [2*x1,0.0 ,0.0 ,2*x4,0.0 ,0.0 ,0.0,0.0,0.0],\n",
    "              [0.0 ,2*x2,0.0 ,0.0 ,2*x5,0.0 ,0.0,0.0,0.0],\n",
    "              [0.0 ,0.0 ,2*x3,0.0 ,0.0 ,2*x6,0.0,0.0,0.0]])\n",
    "    return F"
   ]
  },
  {
   "cell_type": "code",
   "execution_count": 229,
   "metadata": {
    "collapsed": false
   },
   "outputs": [],
   "source": [
    "def NR(guess):\n",
    "    global xs\n",
    "    global F\n",
    "    xs = guess\n",
    "    thetas = [[np.arcsin(xs[0]),np.arcsin(xs[1]),np.arcsin(xs[2])]]\n",
    "    ts = [[xs[6],xs[7],xs[8]]]\n",
    "    xss=[]\n",
    "    \n",
    "    cont = 0\n",
    "    xss.append(cont)\n",
    "    cont+=1\n",
    "    \n",
    "    fs = calcfs(xs)\n",
    "    F = calcF(xs)\n",
    "    while(not paramos(fs)):\n",
    "#         print(fs)\n",
    "        dx = -1*linalg.solve(F,fs)\n",
    "        xs += dx\n",
    "        thetas.append([np.arcsin(xs[0]),np.arcsin(xs[1]),np.arcsin(xs[2])])\n",
    "        ts.append([xs[6],xs[7],xs[8]])\n",
    "        xss.append(cont)\n",
    "        cont+=1\n",
    "        fs = calcfs(xs)\n",
    "        F = calcF(xs)\n",
    "\n",
    "    thetas =np.array(thetas)\n",
    "    ts = np.array(ts)\n",
    "#     print(xss)\n",
    "#     print(thetas)\n",
    "    plt.figure(figsize=(10,10))\n",
    "    plt.plot(xss,thetas[:,0],label = \"Theta1\")\n",
    "    plt.plot(xss,thetas[:,1],label = \"Theta2\")\n",
    "    plt.plot(xss,thetas[:,2],label = \"Theta3\")\n",
    "    plt.ylabel(\"Angulo (rad)\")\n",
    "    plt.xlabel(\"Numero de iteracion \")\n",
    "    plt.title(\"Convergencia de angulos\",fontsize = 20)\n",
    "    plt.legend(loc = \"best\")\n",
    "    \n",
    "    plt.savefig(\"AnglesPLOT.pdf\")\n",
    "    plt.figure(figsize=(10,10))\n",
    "    plt.plot(xss,ts[:,0],label = \"Tension 1\")\n",
    "    plt.plot(xss,ts[:,1],label = \"Tension 2\")\n",
    "    plt.plot(xss,ts[:,2],label = \"Tension 3\")\n",
    "    plt.ylabel(\"Tension (unidades arbitrarias)\")\n",
    "    plt.xlabel(\"Numero de iteracion \")\n",
    "    plt.title(\"Convergencia de Tensiones\",fontsize = 20)\n",
    "    plt.legend(loc = \"best\")\n",
    "    plt.savefig(\"TensionsPLOT.pdf\")\n",
    "    return xs"
   ]
  },
  {
   "cell_type": "code",
   "execution_count": 230,
   "metadata": {
    "collapsed": true
   },
   "outputs": [],
   "source": [
    "def paramos(fs):\n",
    "    global umbral\n",
    "    ans = True\n",
    "    for i in fs:\n",
    "        if abs(i)>umbral:\n",
    "            ans = False\n",
    "            break\n",
    "    return ans"
   ]
  },
  {
   "cell_type": "code",
   "execution_count": 231,
   "metadata": {
    "collapsed": false
   },
   "outputs": [],
   "source": [
    "xs =NR([0.5,0.2,0.8,1,1,1,15,15,15])\n"
   ]
  },
  {
   "cell_type": "code",
   "execution_count": 161,
   "metadata": {
    "collapsed": false
   },
   "outputs": [],
   "source": [
    "xsReal = np.array([np.arcsin(xs[0]),np.arcsin(xs[1]),np.arcsin(xs[2]),\n",
    "                  np.arccos(xs[3]),np.arccos(xs[4]),np.arccos(xs[5]),xs[6],xs[7],xs[8]])"
   ]
  },
  {
   "cell_type": "code",
   "execution_count": 162,
   "metadata": {
    "collapsed": false,
    "scrolled": false
   },
   "outputs": [
    {
     "name": "stdout",
     "output_type": "stream",
     "text": [
      "Valores Obtenidos:\n",
      "\n",
      "    Theta1 = 0.86485954278\n",
      "    Theta2 = 0.268154319526\n",
      "    Theta3 = 0.98941578429\n",
      "        T1 = 17.1601180651\n",
      "        T2 = 11.5451821452\n",
      "        T3 = 20.2713355475\n"
     ]
    }
   ],
   "source": [
    "print(\"Valores Obtenidos:\")\n",
    "print(\"\")\n",
    "print(\"    Theta1 = \"+str(xsReal[0]))\n",
    "print(\"    Theta2 = \"+str(xsReal[1]))\n",
    "print(\"    Theta3 = \"+str(xsReal[2]))\n",
    "print(\"        T1 = \"+str(xs[6]))\n",
    "print(\"        T2 = \"+str(xs[7]))\n",
    "print(\"        T3 = \"+str(xs[8]))"
   ]
  },
  {
   "cell_type": "code",
   "execution_count": null,
   "metadata": {
    "collapsed": false
   },
   "outputs": [],
   "source": []
  },
  {
   "cell_type": "code",
   "execution_count": null,
   "metadata": {
    "collapsed": true
   },
   "outputs": [],
   "source": []
  }
 ],
 "metadata": {
  "anaconda-cloud": {},
  "kernelspec": {
   "display_name": "Python [Root]",
   "language": "python",
   "name": "Python [Root]"
  },
  "language_info": {
   "codemirror_mode": {
    "name": "ipython",
    "version": 3
   },
   "file_extension": ".py",
   "mimetype": "text/x-python",
   "name": "python",
   "nbconvert_exporter": "python",
   "pygments_lexer": "ipython3",
   "version": "3.5.2"
  }
 },
 "nbformat": 4,
 "nbformat_minor": 0
}
