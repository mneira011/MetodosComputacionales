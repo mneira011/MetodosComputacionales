{
 "cells": [
  {
   "cell_type": "code",
   "execution_count": 1,
   "metadata": {
    "collapsed": false
   },
   "outputs": [],
   "source": [
    "\n",
    "import numpy as np\n",
    "import matplotlib.pyplot as plt\n"
   ]
  },
  {
   "cell_type": "code",
   "execution_count": null,
   "metadata": {
    "collapsed": false
   },
   "outputs": [],
   "source": []
  },
  {
   "cell_type": "code",
   "execution_count": null,
   "metadata": {
    "collapsed": false
   },
   "outputs": [],
   "source": []
  },
  {
   "cell_type": "code",
   "execution_count": 2,
   "metadata": {
    "collapsed": false
   },
   "outputs": [],
   "source": [
    "d=np.genfromtxt(\"soiplaintext.txt\",dtype=str,delimiter='\\t',skip_header=1,skip_footer =1)\n",
    "\n"
   ]
  },
  {
   "cell_type": "code",
   "execution_count": 3,
   "metadata": {
    "collapsed": false
   },
   "outputs": [],
   "source": [
    "mes=[]\n",
    "temp=[]\n",
    "cont = 0;\n",
    "for i in range(len(d)):\n",
    "#     print(len(d[i].split(\" \")))\n",
    "    for j in range(13):\n",
    "#         print(j)\n",
    "        if((j!=0)and j!=\" \"):\n",
    "            temp.append(d[i].split()[j])\n"
   ]
  },
  {
   "cell_type": "code",
   "execution_count": 4,
   "metadata": {
    "collapsed": true
   },
   "outputs": [],
   "source": [
    "for i in range(len(temp)):\n",
    "    mes.append(i)\n",
    "    \n",
    "    "
   ]
  },
  {
   "cell_type": "code",
   "execution_count": 5,
   "metadata": {
    "collapsed": false,
    "scrolled": true
   },
   "outputs": [],
   "source": [
    "d1 = np.genfromtxt('heat_content_index.txt',skip_header=2,skip_footer=2)\n"
   ]
  },
  {
   "cell_type": "code",
   "execution_count": 6,
   "metadata": {
    "collapsed": false
   },
   "outputs": [],
   "source": [
    "t1 = d1[:,2]\n",
    "t2 = d1[:,3]\n",
    "t3 = d1[:,4]\n"
   ]
  },
  {
   "cell_type": "code",
   "execution_count": 7,
   "metadata": {
    "collapsed": false,
    "scrolled": true
   },
   "outputs": [],
   "source": [
    "plt.figure(figsize=(20,20))\n",
    "\n",
    "plt.plot(mes[1236:],temp[1236:],alpha = 0.6,linewidth=4,label=\"SOI\")\n",
    "plt.ylabel(r\"$SOI$\",fontsize = 28)\n",
    "plt.xlabel(r\"$Tiempo\\ (meses\\ desde\\ Enero\\ de\\ 1979)$\",fontsize=28)\n",
    "plt.legend(loc = 1,fontsize=21)\n",
    "plt.twinx()\n",
    "plt.plot(mes[1236:],t1,c='black',linewidth=2,label = \"Temp. 130E-80W\")\n",
    "plt.plot(mes[1236:],t2,c='red',linewidth=2, label = \"Temp. 160E-80W \")\n",
    "plt.plot(mes[1236:],t3,c='orange',linewidth=2, label = \"Temp. 180W-100W\")\n",
    "\n",
    "plt.ylabel(r\"$Pormedio\\ de\\ anomalias\\ en\\ la\\ temperatura\\ (^\\circ c)$\",fontsize=28)\n",
    "plt.legend(loc=2,fontsize=21)\n",
    "plt.savefig(\"Anomalies_SOI_Plot.pdf\")"
   ]
  },
  {
   "cell_type": "code",
   "execution_count": 8,
   "metadata": {
    "collapsed": true
   },
   "outputs": [],
   "source": [
    "data = [t1,t2,t3,temp[1236:]]"
   ]
  },
  {
   "cell_type": "code",
   "execution_count": 9,
   "metadata": {
    "collapsed": false
   },
   "outputs": [],
   "source": [
    "data = np.array(data).astype(np.float)\n"
   ]
  },
  {
   "cell_type": "code",
   "execution_count": 10,
   "metadata": {
    "collapsed": false
   },
   "outputs": [],
   "source": [
    "cov_matrix = np.cov(data)\n",
    "values, vectors = np.linalg.eig(cov_matrix)\n",
    "# print(cov_matrix)\n",
    "sumVals =sum(values)"
   ]
  },
  {
   "cell_type": "code",
   "execution_count": 11,
   "metadata": {
    "collapsed": false
   },
   "outputs": [
    {
     "name": "stdout",
     "output_type": "stream",
     "text": [
      "El 1er componente tiene un valor de 117.106614227 y tiene el vector [ 0.01855063  0.03413527  0.04384401 -0.99828271]\n",
      "Corresponde al 98.8504792992% de la varianza\n",
      "El 2ndo componente tiene un valor de 1.33894361777 y tiene el vector [ 0.47076141  0.56526657  0.6749266   0.05771905]\n",
      "Corresponde al 1.13021129716% de la varianza\n"
     ]
    }
   ],
   "source": [
    "values = values[0:2]\n",
    "vectors = vectors[:,0:2]\n",
    "print(\"El 1er componente tiene un valor de \"+ str(values[0]) +\n",
    "      \" y tiene el vector \" + str(vectors[:,0]))\n",
    "print(\"Corresponde al \" + str(100*values[0]/sumVals)+\"% de la varianza\")\n",
    "print(\"El 2ndo componente tiene un valor de \"+ str(values[1]) +\n",
    "      \" y tiene el vector \" + str(vectors[:,1]))\n",
    "print(\"Corresponde al \" + str(100*values[1]/sumVals)+\"% de la varianza\")"
   ]
  },
  {
   "cell_type": "code",
   "execution_count": 12,
   "metadata": {
    "collapsed": false
   },
   "outputs": [],
   "source": [
    "new_data = np.dot(vectors.T, data)"
   ]
  },
  {
   "cell_type": "code",
   "execution_count": 15,
   "metadata": {
    "collapsed": false
   },
   "outputs": [],
   "source": [
    "# print(new_data)\n",
    "plt.figure(figsize=(10,10))\n",
    "plt.scatter(new_data[0,:], new_data[1,:])\n",
    "plt.xlabel(r\"$Componente\\ principal\\ 1$\",fontsize = 15)\n",
    "plt.ylabel(r\"$Componente\\ principal\\ 2$\",fontsize = 15)\n",
    "plt.title(r\"$PCA$\",fontsize=20)\n",
    "plt.savefig(\"PCA_Anomalies_SOI_Plot.pdf\")"
   ]
  },
  {
   "cell_type": "code",
   "execution_count": null,
   "metadata": {
    "collapsed": true
   },
   "outputs": [],
   "source": []
  }
 ],
 "metadata": {
  "kernelspec": {
   "display_name": "Python [Root]",
   "language": "python",
   "name": "Python [Root]"
  },
  "language_info": {
   "codemirror_mode": {
    "name": "ipython",
    "version": 3
   },
   "file_extension": ".py",
   "mimetype": "text/x-python",
   "name": "python",
   "nbconvert_exporter": "python",
   "pygments_lexer": "ipython3",
   "version": "3.5.2"
  }
 },
 "nbformat": 4,
 "nbformat_minor": 0
}
