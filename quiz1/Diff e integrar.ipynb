{
 "cells": [
  {
   "cell_type": "code",
   "execution_count": 1,
   "metadata": {
    "collapsed": false
   },
   "outputs": [
    {
     "name": "stdout",
     "output_type": "stream",
     "text": [
      "Populating the interactive namespace from numpy and matplotlib\n"
     ]
    }
   ],
   "source": [
    "%pylab inline "
   ]
  },
  {
   "cell_type": "code",
   "execution_count": 2,
   "metadata": {
    "collapsed": true
   },
   "outputs": [],
   "source": [
    "def my_func(x):\n",
    "    return np.exp(-(x**2))\n",
    "def my_func_prime(x):\n",
    "    return -2*x * np.exp(-(x**2))"
   ]
  },
  {
   "cell_type": "markdown",
   "metadata": {},
   "source": [
    "# DIFERENCIACION SIMPLE\n"
   ]
  },
  {
   "cell_type": "code",
   "execution_count": 12,
   "metadata": {
    "collapsed": false
   },
   "outputs": [],
   "source": [
    "def diff_simple(func,start,end,points):\n",
    "    n_points = points\n",
    "    x = np.linspace(start,end,n_points)\n",
    "    h = x[1]-x[0]\n",
    "    f = func(x)\n",
    "    f_prime_diff = (f[1:] - f[0:-1])/h\n",
    "    return (x[0:-1],f_prime_diff)\n",
    "\n",
    "\n",
    "\n"
   ]
  },
  {
   "cell_type": "code",
   "execution_count": 19,
   "metadata": {
    "collapsed": false
   },
   "outputs": [],
   "source": [
    "x,y = diff_simple(my_func,-10.0,10.0,10000)"
   ]
  },
  {
   "cell_type": "markdown",
   "metadata": {},
   "source": [
    "# CENTRAL DIFFERENCE\n"
   ]
  },
  {
   "cell_type": "code",
   "execution_count": 20,
   "metadata": {
    "collapsed": true
   },
   "outputs": [],
   "source": [
    "def diff_central(func,start,end,points):\n",
    "    n_points = points\n",
    "    x = np.linspace(start,end,n_points)\n",
    "    h = x[1]-x[0]\n",
    "    f = func(x)\n",
    "    f_prime_diff = (f[2:-1] - f[0:-3])/(2*h)\n",
    "    return (x[1:-2],f_prime_diff)\n",
    "    \n",
    "    "
   ]
  },
  {
   "cell_type": "code",
   "execution_count": 21,
   "metadata": {
    "collapsed": false
   },
   "outputs": [
    {
     "data": {
      "text/plain": [
       "[<matplotlib.lines.Line2D at 0x7f847998e160>]"
      ]
     },
     "execution_count": 21,
     "metadata": {},
     "output_type": "execute_result"
    },
    {
     "data": {
      "image/png": "[encoded data removed]",
      "text/plain": [
       "<matplotlib.figure.Figure at 0x7f8479a72cf8>"
      ]
     },
     "metadata": {},
     "output_type": "display_data"
    }
   ],
   "source": [
    "x,y = diff_central(my_func,-10.0,10.0,10000)\n",
    "plt.plot(x,y)"
   ]
  },
  {
   "cell_type": "markdown",
   "metadata": {},
   "source": [
    "# SEGUNDA DERIVADA\n"
   ]
  },
  {
   "cell_type": "code",
   "execution_count": 22,
   "metadata": {
    "collapsed": true
   },
   "outputs": [],
   "source": [
    "def segundaDerivada(func,start,end,points):\n",
    "    n_points = points\n",
    "    x = np.linspace(start,end,n_points)\n",
    "    h = x[1]-x[0]\n",
    "    f = func(x)\n",
    "    f_prime_prime_diff = (f[2:-1] -2*f[1:-2] + f[0:-3])/(h**2)\n",
    "    return (x[1:-2], f_prime_prime_diff)\n",
    "    \n",
    "    "
   ]
  },
  {
   "cell_type": "code",
   "execution_count": 23,
   "metadata": {
    "collapsed": false
   },
   "outputs": [
    {
     "data": {
      "text/plain": [
       "[<matplotlib.lines.Line2D at 0x7f8479963a20>]"
      ]
     },
     "execution_count": 23,
     "metadata": {},
     "output_type": "execute_result"
    },
    {
     "data": {
      "image/png": "[encoded data removed]",
      "text/plain": [
       "<matplotlib.figure.Figure at 0x7f8479999c50>"
      ]
     },
     "metadata": {},
     "output_type": "display_data"
    }
   ],
   "source": [
    "x,y = segundaDerivada(my_func,-10.0,10.0,10000)\n",
    "plt.plot(x,y)"
   ]
  },
  {
   "cell_type": "markdown",
   "metadata": {},
   "source": [
    "# ENCONTRANDO CEROS - NEWTON RAPHSON\n"
   ]
  },
  {
   "cell_type": "code",
   "execution_count": 26,
   "metadata": {
    "collapsed": false
   },
   "outputs": [],
   "source": [
    "def newtonRaphson(func,derivada,h,guess):\n",
    "    while (abs(func(guess)) > 1E-3):\n",
    "        delta_x = -func(guess)/derivada(guess,h)\n",
    "        guess = guess + delta_x\n",
    "        print(guess)"
   ]
  },
  {
   "cell_type": "code",
   "execution_count": 27,
   "metadata": {
    "collapsed": true
   },
   "outputs": [],
   "source": [
    "\n",
    "\n",
    "def my_func(x):\n",
    "    return x**2 - 3*x - 10\n",
    "\n",
    "\n",
    "def my_prime_func(x,h):\n",
    "    return (my_func(x+h) - my_func(x-h))/(2.0*h)\n",
    "\n",
    "\n"
   ]
  },
  {
   "cell_type": "code",
   "execution_count": 28,
   "metadata": {
    "collapsed": false
   },
   "outputs": [
    {
     "name": "stdout",
     "output_type": "stream",
     "text": [
      "-11.000000000000256\n",
      "-5.24\n",
      "-2.778753709198785\n",
      "-2.07086845619168\n",
      "-2.0007032376219676\n",
      "-2.0000000706348295\n"
     ]
    }
   ],
   "source": [
    "newtonRaphson(my_func,my_prime_func,0.01,1)"
   ]
  },
  {
   "cell_type": "code",
   "execution_count": 29,
   "metadata": {
    "collapsed": false
   },
   "outputs": [
    {
     "name": "stdout",
     "output_type": "stream",
     "text": [
      "5.200000000000026\n",
      "5.005405405405405\n",
      "5.000004167621746\n"
     ]
    }
   ],
   "source": [
    "newtonRaphson(my_func,my_prime_func,0.01,4)"
   ]
  },
  {
   "cell_type": "markdown",
   "metadata": {},
   "source": [
    "# INTEGRAL SENCILLA con h\n"
   ]
  },
  {
   "cell_type": "code",
   "execution_count": 30,
   "metadata": {
    "collapsed": true
   },
   "outputs": [],
   "source": [
    "def integral(func,start,end,h):\n",
    "    npoints  = int((end-start)/h)\n",
    "    x = linspace(start,end,npoints)\n",
    "    y = func(x)\n",
    "    integral = sum(y) * h\n",
    "    return integral\n",
    "\n",
    "    "
   ]
  },
  {
   "cell_type": "code",
   "execution_count": 41,
   "metadata": {
    "collapsed": false
   },
   "outputs": [
    {
     "data": {
      "text/plain": [
       "1.9989859184830003"
      ]
     },
     "execution_count": 41,
     "metadata": {},
     "output_type": "execute_result"
    }
   ],
   "source": [
    "def mysin(x):\n",
    "    return np.sin(x)\n",
    "# mysin(0)\n",
    "integral(mysin,0,pi,0.001)"
   ]
  },
  {
   "cell_type": "markdown",
   "metadata": {},
   "source": [
    "# INTEGRANDO CON SCIPY"
   ]
  },
  {
   "cell_type": "code",
   "execution_count": 45,
   "metadata": {
    "collapsed": true
   },
   "outputs": [],
   "source": [
    "from scipy import integrate\n",
    "def integrarScipyTrapz(func,start,end,npoints):\n",
    "    n_points = npoints\n",
    "    x = linspace(start,end,n_points)\n",
    "    return integrate.trapz(func(x), x)"
   ]
  },
  {
   "cell_type": "code",
   "execution_count": 46,
   "metadata": {
    "collapsed": false
   },
   "outputs": [
    {
     "data": {
      "text/plain": [
       "1.9999983517708519"
      ]
     },
     "execution_count": 46,
     "metadata": {},
     "output_type": "execute_result"
    }
   ],
   "source": [
    "integrarScipyTrapz(mysin,0,pi,1000)"
   ]
  },
  {
   "cell_type": "code",
   "execution_count": 47,
   "metadata": {
    "collapsed": true
   },
   "outputs": [],
   "source": [
    "def integrarScipySimps(func,start,end,npoints):\n",
    "    n_points = npoints\n",
    "    x = linspace(start,end,n_points)\n",
    "    return integrate.simps(func(x), x)"
   ]
  },
  {
   "cell_type": "code",
   "execution_count": 49,
   "metadata": {
    "collapsed": false
   },
   "outputs": [
    {
     "data": {
      "text/plain": [
       "1.9999999999970117"
      ]
     },
     "execution_count": 49,
     "metadata": {},
     "output_type": "execute_result"
    }
   ],
   "source": [
    "integrarScipySimps(mysin,0,pi,1000)"
   ]
  },
  {
   "cell_type": "markdown",
   "metadata": {},
   "source": [
    "# INTEGRAL 2D MONTECARLO"
   ]
  },
  {
   "cell_type": "code",
   "execution_count": 58,
   "metadata": {
    "collapsed": false
   },
   "outputs": [],
   "source": [
    "def integralMontecarlo(func,start,end,npointsx,npointsMonteCarlo):\n",
    "    contIn = 0.0\n",
    "    contTot = npointsMonteCarlo\n",
    "    x = linspace(start,end,npointsx)\n",
    "    y = func(x)\n",
    "    maxy = amax(y)\n",
    "    randx = np.random.uniform(start,end,npointsMonteCarlo)\n",
    "    randy = np.random.uniform(0.0,maxy,npointsMonteCarlo)\n",
    "    for i in range(npointsMonteCarlo):\n",
    "        if(func(randx[i])-randy[i]>0):\n",
    "            contIn+=1\n",
    "        \n",
    "    return (contIn/(npointsMonteCarlo))*(end-start)*maxy\n",
    "    "
   ]
  },
  {
   "cell_type": "code",
   "execution_count": 61,
   "metadata": {
    "collapsed": false
   },
   "outputs": [
    {
     "data": {
      "text/plain": [
       "2.0002425930807202"
      ]
     },
     "execution_count": 61,
     "metadata": {},
     "output_type": "execute_result"
    }
   ],
   "source": [
    "integralMontecarlo(mysin,0.0,pi,10000,1000000)"
   ]
  },
  {
   "cell_type": "code",
   "execution_count": 65,
   "metadata": {
    "collapsed": false
   },
   "outputs": [],
   "source": [
    "x,y = np.loadtxt(\"red3.txt\",delimiter=' ', usecols=(0, 1), unpack=True)"
   ]
  },
  {
   "cell_type": "code",
   "execution_count": 67,
   "metadata": {
    "collapsed": false
   },
   "outputs": [
    {
     "data": {
      "text/plain": [
       "<matplotlib.collections.PathCollection at 0x7f8479850400>"
      ]
     },
     "execution_count": 67,
     "metadata": {},
     "output_type": "execute_result"
    },
    {
     "data": {
      "image/png": "[encoded data removed]",
      "text/plain": [
       "<matplotlib.figure.Figure at 0x7f8476e27198>"
      ]
     },
     "metadata": {},
     "output_type": "display_data"
    }
   ],
   "source": [
    "plt.scatter(x,y)"
   ]
  },
  {
   "cell_type": "code",
   "execution_count": null,
   "metadata": {
    "collapsed": true
   },
   "outputs": [],
   "source": []
  }
 ],
 "metadata": {
  "anaconda-cloud": {},
  "kernelspec": {
   "display_name": "Python [Root]",
   "language": "python",
   "name": "Python [Root]"
  },
  "language_info": {
   "codemirror_mode": {
    "name": "ipython",
    "version": 3
   },
   "file_extension": ".py",
   "mimetype": "text/x-python",
   "name": "python",
   "nbconvert_exporter": "python",
   "pygments_lexer": "ipython3",
   "version": "3.5.2"
  }
 },
 "nbformat": 4,
 "nbformat_minor": 0
}
