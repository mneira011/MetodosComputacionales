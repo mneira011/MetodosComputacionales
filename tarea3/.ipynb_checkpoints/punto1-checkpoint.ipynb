{
 "cells": [
  {
   "cell_type": "code",
   "execution_count": 118,
   "metadata": {
    "collapsed": true
   },
   "outputs": [],
   "source": [
    "import scipy.io.wavfile as wav \n",
    "import numpy as np\n",
    "import matplotlib.pyplot as plt\n",
    "from scipy.fftpack import fft, fftfreq"
   ]
  },
  {
   "cell_type": "code",
   "execution_count": 119,
   "metadata": {
    "collapsed": false
   },
   "outputs": [
    {
     "name": "stdout",
     "output_type": "stream",
     "text": [
      "11967\n",
      "6319\n"
     ]
    }
   ],
   "source": [
    "datTrump = wav.read(\"trumpet.wav\")\n",
    "datViolin = wav.read(\"violin.wav\")\n",
    "print(np.amax(datTrump[1]))\n",
    "print(np.amax(datViolin[1]))\n",
    "ytrump = (fft(datTrump[1]))/len(datTrump[1])\n",
    "yviolin =(fft(datViolin[1]))/len(datViolin[1]) "
   ]
  },
  {
   "cell_type": "code",
   "execution_count": 120,
   "metadata": {
    "collapsed": false
   },
   "outputs": [
    {
     "data": {
      "text/plain": [
       "2.2675736961451248e-05"
      ]
     },
     "execution_count": 120,
     "metadata": {},
     "output_type": "execute_result"
    }
   ],
   "source": [
    "1/datViolin[0]"
   ]
  },
  {
   "cell_type": "code",
   "execution_count": 121,
   "metadata": {
    "collapsed": false
   },
   "outputs": [
    {
     "name": "stdout",
     "output_type": "stream",
     "text": [
      "44100\n",
      "44100\n"
     ]
    }
   ],
   "source": [
    "print(datTrump[0])\n",
    "print(datViolin[0])\n",
    "xviolin = fftfreq(len(datViolin[1]), 1.0/datViolin[0]) \n",
    "xtrump= fftfreq(len(datTrump[1]), 1.0/datTrump[0]) "
   ]
  },
  {
   "cell_type": "code",
   "execution_count": 122,
   "metadata": {
    "collapsed": false
   },
   "outputs": [
    {
     "data": {
      "text/plain": [
       "277093"
      ]
     },
     "execution_count": 122,
     "metadata": {},
     "output_type": "execute_result"
    }
   ],
   "source": [
    "len(xtrump)"
   ]
  },
  {
   "cell_type": "code",
   "execution_count": 123,
   "metadata": {
    "collapsed": false
   },
   "outputs": [
    {
     "data": {
      "text/plain": [
       "277093"
      ]
     },
     "execution_count": 123,
     "metadata": {},
     "output_type": "execute_result"
    }
   ],
   "source": [
    "len(ytrump)"
   ]
  },
  {
   "cell_type": "code",
   "execution_count": 127,
   "metadata": {
    "collapsed": false
   },
   "outputs": [],
   "source": [
    "fig, (ax1,ax2) = plt.subplots(2)\n",
    "ax1.plot(xtrump,abs(ytrump),label=\"Trompeta\")\n",
    "ax2.plot(xviolin,abs(yviolin).real,label=\"Violin\")\n",
    "\n",
    "ax1.legend()\n",
    "ax2.legend()\n",
    "plt.show()\n"
   ]
  },
  {
   "cell_type": "code",
   "execution_count": 71,
   "metadata": {
    "collapsed": false
   },
   "outputs": [
    {
     "name": "stdout",
     "output_type": "stream",
     "text": [
      "1063.76762365\n",
      "[  3137 273956]\n",
      "[ 1058.58841694-104.84331477j  1058.58841694+104.84331477j]\n",
      "[ 0.+0.j  0.+0.j]\n",
      "1014.38191895\n"
     ]
    }
   ],
   "source": [
    "\n",
    "def elimFundamental(frecuencias,intensidades):\n",
    "    fundamentalInd = np.where(np.amax(abs(intensidades))==abs(intensidades))\n",
    "    print(np.amax(abs(intensidades)))\n",
    "    print(fundamentalInd[0])\n",
    "    print(intensidades[fundamentalInd[0]])\n",
    "    for i in fundamentalInd[0]:\n",
    "        intensidades[i] = 0.0\n",
    "#     fundamentalInd = np.where(np.amax(intensidades)==intensidades)\n",
    "    print(intensidades[fundamentalInd[0]])\n",
    "    print(np.amax(abs(intensidades)))\n",
    "    return intensidades\n",
    "plt.plot(xtrump,abs(ytrump),label=\"trumpet1\",alpha = 0.2)\n",
    "ytrump = elimFundamental(xtrump,ytrump)\n",
    "plt.xlim(496,505)\n",
    "plt.plot(xtrump,abs(ytrump),label=\"trumpet2\")\n",
    "# plt.plot(xviolin,abs(yviolin).real,label=\"violin\")\n",
    "#plt.xlim(0,20000)\n",
    "plt.legend()\n",
    "plt.show()\n"
   ]
  },
  {
   "cell_type": "code",
   "execution_count": 111,
   "metadata": {
    "collapsed": true
   },
   "outputs": [],
   "source": [
    "#Pasa bajas\n",
    "\n",
    "def pasaBajas(frecuencias,intensidades):\n",
    "    fundamentalInd = np.where(abs(frecuencias)>2000/(2*np.pi))\n",
    "    pintensidades = intensidades.copy() \n",
    "    for i in fundamentalInd[0]:\n",
    "        pintensidades[i] = 0.0\n",
    "#     fundamentalInd = np.where(np.amax(intensidades)==intensidades)\n",
    "   \n",
    "    return pintensidades"
   ]
  },
  {
   "cell_type": "code",
   "execution_count": 113,
   "metadata": {
    "collapsed": false
   },
   "outputs": [
    {
     "name": "stdout",
     "output_type": "stream",
     "text": [
      "1063.76762365\n",
      "[ 12567  12568  12569 ..., 264524 264525 264526]\n",
      "[ 0.+0.j  0.+0.j  0.+0.j ...,  0.+0.j  0.+0.j  0.+0.j]\n",
      "[ 0.+0.j  0.+0.j  0.+0.j ...,  0.+0.j  0.+0.j  0.+0.j]\n",
      "1063.76762365\n"
     ]
    }
   ],
   "source": [
    "trumpbajas = pasaBajas(xtrump,ytrump)\n",
    "plt.plot(xtrump,abs(trumpbajas),label=\"trumpet1\",alpha = 0.2,linewidth=10)\n",
    "ytrump = elimFundamental(xtrump,ytrump)\n",
    "plt.xlim(-10000,10000)\n",
    "plt.plot(xtrump,abs(ytrump),label=\"trumpet2\")\n",
    "# plt.plot(xviolin,abs(yviolin).real,label=\"violin\")\n",
    "# plt.xlim(0,20000)\n",
    "plt.legend()\n",
    "plt.show()"
   ]
  },
  {
   "cell_type": "code",
   "execution_count": 116,
   "metadata": {
    "collapsed": true
   },
   "outputs": [],
   "source": [
    "#Pasa altas\n",
    "def pasaAltas(frecuencias,intensidades):\n",
    "    fundamentalInd = np.where(abs(frecuencias)<2000/(2*np.pi))\n",
    "    pintensidades = intensidades.copy() \n",
    "    for i in fundamentalInd[0]:\n",
    "        pintensidades[i] = 0.0\n",
    "#     fundamentalInd = np.where(np.amax(intensidades)==intensidades)\n",
    "   \n",
    "    return pintensidades"
   ]
  },
  {
   "cell_type": "code",
   "execution_count": 117,
   "metadata": {
    "collapsed": false
   },
   "outputs": [
    {
     "name": "stdout",
     "output_type": "stream",
     "text": [
      "1063.76762365\n",
      "[ 12567  12568  12569 ..., 264524 264525 264526]\n",
      "[ 0.+0.j  0.+0.j  0.+0.j ...,  0.+0.j  0.+0.j  0.+0.j]\n",
      "[ 0.+0.j  0.+0.j  0.+0.j ...,  0.+0.j  0.+0.j  0.+0.j]\n",
      "1063.76762365\n"
     ]
    }
   ],
   "source": [
    "trumpaltas = pasaAltas(xtrump,ytrump)\n",
    "plt.plot(xtrump,abs(trumpaltas),label=\"trumpet1\",alpha = 0.2,linewidth=10)\n",
    "ytrump = elimFundamental(xtrump,ytrump)\n",
    "plt.xlim(-10000,10000)\n",
    "plt.plot(xtrump,abs(ytrump),label=\"trumpet2\")\n",
    "# plt.plot(xviolin,abs(yviolin).real,label=\"violin\")\n",
    "# plt.xlim(0,20000)\n",
    "plt.legend()\n",
    "plt.show()"
   ]
  },
  {
   "cell_type": "code",
   "execution_count": null,
   "metadata": {
    "collapsed": true
   },
   "outputs": [],
   "source": []
  }
 ],
 "metadata": {
  "anaconda-cloud": {},
  "kernelspec": {
   "display_name": "Python [Root]",
   "language": "python",
   "name": "Python [Root]"
  },
  "language_info": {
   "codemirror_mode": {
    "name": "ipython",
    "version": 3
   },
   "file_extension": ".py",
   "mimetype": "text/x-python",
   "name": "python",
   "nbconvert_exporter": "python",
   "pygments_lexer": "ipython3",
   "version": "3.5.2"
  }
 },
 "nbformat": 4,
 "nbformat_minor": 0
}
