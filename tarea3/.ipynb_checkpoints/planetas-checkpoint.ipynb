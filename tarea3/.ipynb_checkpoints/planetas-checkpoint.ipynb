{
 "cells": [
  {
   "cell_type": "code",
   "execution_count": 1,
   "metadata": {
    "collapsed": false
   },
   "outputs": [
    {
     "name": "stdout",
     "output_type": "stream",
     "text": [
      "Populating the interactive namespace from numpy and matplotlib\n"
     ]
    }
   ],
   "source": [
    "%pylab inline"
   ]
  },
  {
   "cell_type": "code",
   "execution_count": 2,
   "metadata": {
    "collapsed": false
   },
   "outputs": [],
   "source": [
    "class Planeta:\n",
    "    Fx = 0.0\n",
    "    Fy = 0.0\n",
    "    Fz = 0.0\n",
    "    def __init__(self,masa, x,y,z,vx,vy,vz):\n",
    "        self.masa = masa\n",
    "        self.x = x\n",
    "        self.y = y\n",
    "        self.z = z\n",
    "        self.vx = vx \n",
    "        self.vy = vy\n",
    "        self.vz = vz\n",
    "\n",
    "    def calcFs(self ,planeta2):\n",
    "        \n",
    "        dx = planeta2.x - self.x\n",
    "        dy= planeta2.y - self.y\n",
    "        dz= planeta2.z - self.z\n",
    "        #G=6.67408E-11 --- en el enunciado dice considerarlo = 1\n",
    "        phi= planeta2.masa*self.masa*(1)/(dx**2.0+dy**2.0+dz**2.0)\n",
    "        rx = dx/((dx**2.0+dy**2.0+dz**2.0)**0.5)\n",
    "        ry = dy/((dx**2.0+dy**2.0+dz**2.0)**0.5)\n",
    "        rz = dz/((dx**2.0+dy**2.0+dz**2.0)**0.5)\n",
    "        self.Fx = phi*rx\n",
    "        self.Fy = phi*ry\n",
    "        self.Fz = phi*rz\n",
    "    \n",
    "    def leap(self,h):\n",
    "        self.vx= self.vx + 2*h*self.Fx/self.masa\n",
    "        self.vy= self.vy + 2*h*self.Fy/self.masa\n",
    "        self.vz= self.vz + 2*h*self.Fz/self.masa\n",
    "        self.x = self.x +2*h*self.vx\n",
    "        self.y = self.y +2*h*self.vy\n",
    "        self.z = self.z +2*h*self.vz\n"
   ]
  },
  {
   "cell_type": "code",
   "execution_count": 67,
   "metadata": {
    "collapsed": false
   },
   "outputs": [],
   "source": [
    "tierra = Planeta(2,0,0,0,4,5,6)\n",
    "luna = Planeta(2,1,0,0,5,5,2)\n",
    "asteroide = Planeta(5,4,3,5,6,5,3)"
   ]
  },
  {
   "cell_type": "code",
   "execution_count": 68,
   "metadata": {
    "collapsed": false
   },
   "outputs": [
    {
     "name": "stdout",
     "output_type": "stream",
     "text": [
      "0.0\n",
      "0.0\n",
      "0.0\n"
     ]
    }
   ],
   "source": [
    "print(luna.Fx)\n",
    "print(luna.Fy)\n",
    "print(luna.Fz)\n"
   ]
  },
  {
   "cell_type": "code",
   "execution_count": 69,
   "metadata": {
    "collapsed": false
   },
   "outputs": [],
   "source": [
    "tierra.calcFs(luna)"
   ]
  },
  {
   "cell_type": "code",
   "execution_count": 36,
   "metadata": {
    "collapsed": false
   },
   "outputs": [],
   "source": [
    "juliana = Planeta(5.972E24,0.0,0.0,0.0,0.0,0.0,0.0)\n",
    "alejandro = Planeta(419455.0,330727.0,0.0,0.0,0.0,50060.477,0.0)\n",
    "juliana.calcFs(alejandro)\n",
    "alejandro.calcFs(juliana)"
   ]
  },
  {
   "cell_type": "code",
   "execution_count": 37,
   "metadata": {
    "collapsed": false
   },
   "outputs": [],
   "source": [
    "xs= []\n",
    "ys = []\n",
    "xs1 = []\n",
    "ys1 = []\n",
    "xs.append(alejandro.x)\n",
    "ys.append(alejandro.y)\n",
    "xs1.append(juliana.x)\n",
    "ys1.append(juliana.y)\n",
    "for i in range(40000):\n",
    "    alejandro.leap(0.01)\n",
    "    juliana.leap(0.01)\n",
    "    juliana.calcFs(alejandro)\n",
    "    alejandro.calcFs(juliana)\n",
    "    xs.append(alejandro.x)\n",
    "    ys.append(alejandro.y)\n",
    "    xs1.append(juliana.x)\n",
    "    ys1.append(juliana.y)"
   ]
  },
  {
   "cell_type": "code",
   "execution_count": 38,
   "metadata": {
    "collapsed": false
   },
   "outputs": [
    {
     "data": {
      "text/plain": [
       "<matplotlib.collections.PathCollection at 0x7fdf9834bed0>"
      ]
     },
     "execution_count": 38,
     "metadata": {},
     "output_type": "execute_result"
    },
    {
     "data": {
      "image/png": "[encoded data removed]",
      "text/plain": [
       "<matplotlib.figure.Figure at 0x7fdf983dd050>"
      ]
     },
     "metadata": {},
     "output_type": "display_data"
    }
   ],
   "source": [
    "plt.plot(xs,ys)\n",
    "\n",
    "plt.scatter(xs1,ys1,s = 100)\n",
    "# plt.xlim(-20000,10000)\n",
    "# plt.ylim(0,0.010)"
   ]
  },
  {
   "cell_type": "code",
   "execution_count": 58,
   "metadata": {
    "collapsed": false
   },
   "outputs": [
    {
     "name": "stdout",
     "output_type": "stream",
     "text": [
      "330727.0\n"
     ]
    }
   ],
   "source": [
    "print(xs[0])"
   ]
  },
  {
   "cell_type": "code",
   "execution_count": null,
   "metadata": {
    "collapsed": true
   },
   "outputs": [],
   "source": [
    "estrella = Planeta(1047,-100.0/1048,0,0,)\n",
    "planeta = Planeta(1)\n",
    "troyano = Planeta(0.005)"
   ]
  }
 ],
 "metadata": {
  "anaconda-cloud": {},
  "kernelspec": {
   "display_name": "Python 2",
   "language": "python",
   "name": "python2"
  },
  "language_info": {
   "codemirror_mode": {
    "name": "ipython",
    "version": 2
   },
   "file_extension": ".py",
   "mimetype": "text/x-python",
   "name": "python",
   "nbconvert_exporter": "python",
   "pygments_lexer": "ipython2",
   "version": "2.7.6"
  }
 },
 "nbformat": 4,
 "nbformat_minor": 0
}
