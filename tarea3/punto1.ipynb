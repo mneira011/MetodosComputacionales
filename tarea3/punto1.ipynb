{
 "cells": [
  {
   "cell_type": "code",
   "execution_count": 1,
   "metadata": {
    "collapsed": true
   },
   "outputs": [],
   "source": [
    "import scipy.io.wavfile as wav \n",
    "import numpy as np\n",
    "import matplotlib.pyplot as plt\n",
    "from scipy.fftpack import fft, fftfreq"
   ]
  },
  {
   "cell_type": "code",
   "execution_count": 2,
   "metadata": {
    "collapsed": false
   },
   "outputs": [
    {
     "name": "stdout",
     "output_type": "stream",
     "text": [
      "11967\n",
      "6319\n"
     ]
    }
   ],
   "source": [
    "datTrump = wav.read(\"trumpet.wav\")\n",
    "datViolin = wav.read(\"violin.wav\")\n",
    "print(np.amax(datTrump[1]))\n",
    "print(np.amax(datViolin[1]))\n",
    "ytrump = (fft(datTrump[1]))/len(datTrump[1])\n",
    "yviolin =(fft(datViolin[1]))/len(datViolin[1]) "
   ]
  },
  {
   "cell_type": "code",
   "execution_count": 3,
   "metadata": {
    "collapsed": false
   },
   "outputs": [
    {
     "data": {
      "text/plain": [
       "0"
      ]
     },
     "execution_count": 3,
     "metadata": {},
     "output_type": "execute_result"
    }
   ],
   "source": [
    "1/datViolin[0]"
   ]
  },
  {
   "cell_type": "code",
   "execution_count": 4,
   "metadata": {
    "collapsed": false
   },
   "outputs": [
    {
     "name": "stdout",
     "output_type": "stream",
     "text": [
      "44100\n",
      "44100\n"
     ]
    }
   ],
   "source": [
    "print(datTrump[0])\n",
    "print(datViolin[0])\n",
    "xviolin = fftfreq(len(datViolin[1]), 1.0/datViolin[0]) \n",
    "xtrump= fftfreq(len(datTrump[1]), 1.0/datTrump[0]) "
   ]
  },
  {
   "cell_type": "code",
   "execution_count": 5,
   "metadata": {
    "collapsed": false
   },
   "outputs": [
    {
     "data": {
      "text/plain": [
       "277093"
      ]
     },
     "execution_count": 5,
     "metadata": {},
     "output_type": "execute_result"
    }
   ],
   "source": [
    "len(xtrump)"
   ]
  },
  {
   "cell_type": "code",
   "execution_count": 6,
   "metadata": {
    "collapsed": false
   },
   "outputs": [
    {
     "data": {
      "text/plain": [
       "277093"
      ]
     },
     "execution_count": 6,
     "metadata": {},
     "output_type": "execute_result"
    }
   ],
   "source": [
    "len(ytrump)"
   ]
  },
  {
   "cell_type": "code",
   "execution_count": 13,
   "metadata": {
    "collapsed": false
   },
   "outputs": [],
   "source": [
    "plt.plot(xtrump,abs(ytrump),label=\"trumpet\")\n",
    "plt.plot(xviolin,abs(yviolin).real,label=\"violin\")\n",
    "#plt.xlim(0,20000)\n",
    "plt.legend()\n",
    "plt.show()\n"
   ]
  },
  {
   "cell_type": "code",
   "execution_count": 23,
   "metadata": {
    "collapsed": false
   },
   "outputs": [
    {
     "name": "stdout",
     "output_type": "stream",
     "text": [
      "3137\n",
      "1014.38191895\n"
     ]
    }
   ],
   "source": [
    "def elimFundamental(frecuencias,intensidades):\n",
    "    fundamentalInd = np.where(np.amax(intensidades)==intensidades)\n",
    "    print(fundamentalInd[0][0])\n",
    "    for i in fundamentalInd[0]:\n",
    "        intensidades[i] = 0.0\n",
    "#     fundamentalInd = np.where(np.amax(intensidades)==intensidades)\n",
    "    print(np.amax(intensidades))\n",
    "elimFundamental(xtrump,abs(ytrump))\n",
    "plt.plot(xtrump,abs(ytrump),label=\"trumpet\")\n",
    "plt.plot(xviolin,abs(yviolin).real,label=\"violin\")\n",
    "#plt.xlim(0,20000)\n",
    "plt.legend()\n",
    "plt.show()\n"
   ]
  },
  {
   "cell_type": "code",
   "execution_count": null,
   "metadata": {
    "collapsed": true
   },
   "outputs": [],
   "source": []
  },
  {
   "cell_type": "code",
   "execution_count": null,
   "metadata": {
    "collapsed": true
   },
   "outputs": [],
   "source": []
  }
 ],
 "metadata": {
  "kernelspec": {
   "display_name": "Python 2",
   "language": "python",
   "name": "python2"
  },
  "language_info": {
   "codemirror_mode": {
    "name": "ipython",
    "version": 2
   },
   "file_extension": ".py",
   "mimetype": "text/x-python",
   "name": "python",
   "nbconvert_exporter": "python",
   "pygments_lexer": "ipython2",
   "version": "2.7.6"
  }
 },
 "nbformat": 4,
 "nbformat_minor": 0
}
