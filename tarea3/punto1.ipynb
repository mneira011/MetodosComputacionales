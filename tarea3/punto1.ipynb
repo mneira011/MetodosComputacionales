{
 "cells": [
  {
   "cell_type": "code",
   "execution_count": 15,
   "metadata": {
    "collapsed": true
   },
   "outputs": [],
   "source": [
    "import scipy.io.wavfile as wav \n",
    "import numpy as np\n",
    "import matplotlib.pyplot as plt\n",
    "from scipy.fftpack import fft, fftfreq, ifft"
   ]
  },
  {
   "cell_type": "code",
   "execution_count": 16,
   "metadata": {
    "collapsed": false
   },
   "outputs": [],
   "source": [
    "datTrump = wav.read(\"trumpet.wav\")\n",
    "datViolin = wav.read(\"violin.wav\")\n",
    "ytrump = (fft(datTrump[1]))/len(datTrump[1])\n",
    "yviolin =(fft(datViolin[1]))/len(datViolin[1]) "
   ]
  },
  {
   "cell_type": "code",
   "execution_count": null,
   "metadata": {
    "collapsed": false
   },
   "outputs": [],
   "source": []
  },
  {
   "cell_type": "code",
   "execution_count": 17,
   "metadata": {
    "collapsed": false
   },
   "outputs": [],
   "source": [
    "\n",
    "xviolin = fftfreq(len(datViolin[1]), 1.0/datViolin[0]) \n",
    "xtrump= fftfreq(len(datTrump[1]), 1.0/datTrump[0]) "
   ]
  },
  {
   "cell_type": "code",
   "execution_count": null,
   "metadata": {
    "collapsed": false
   },
   "outputs": [],
   "source": []
  },
  {
   "cell_type": "code",
   "execution_count": null,
   "metadata": {
    "collapsed": false
   },
   "outputs": [],
   "source": []
  },
  {
   "cell_type": "code",
   "execution_count": 18,
   "metadata": {
    "collapsed": false
   },
   "outputs": [],
   "source": [
    "fig, (ax1,ax2) = plt.subplots(2)\n",
    "ax1.plot(xtrump,abs(ytrump),label=\"Trompeta\",c = \"R\")\n",
    "ax2.plot(xviolin,abs(yviolin),label=\"Violin\")\n",
    "ax1.set_title(\"Transf. de fourier\",fontsize = 20)\n",
    "ax2.set_xlabel(r\"Frecuencia $(Hz)$\")\n",
    "ax1.set_ylabel(\"Amplitud\")\n",
    "ax2.set_ylabel(\"Amplitud\")\n",
    "ax2.set_xlim(-10000,10000)\n",
    "ax1.set_xlim(-10000,10000)\n",
    "ax1.legend()\n",
    "ax2.legend()\n",
    "\n",
    "plt.savefig(\"ViolinTrompeta.pdf\")\n",
    "plt.close()\n"
   ]
  },
  {
   "cell_type": "code",
   "execution_count": 19,
   "metadata": {
    "collapsed": false
   },
   "outputs": [],
   "source": [
    "\n",
    "def elimFundamental(frecuencias,intensidades):\n",
    "    fundamentalInd = np.where(np.amax(abs(intensidades))==abs(intensidades))\n",
    "    izq=fundamentalInd[0][0]\n",
    "    der = fundamentalInd[0][1]\n",
    "    pintensidades = intensidades.copy()\n",
    "    for i in range(100):\n",
    "        pintensidades[izq + i] = 0.0\n",
    "        pintensidades[izq - i] = 0.0\n",
    "        pintensidades[der + i] = 0.0\n",
    "        pintensidades[der - i] = 0.0\n",
    "    return pintensidades\n"
   ]
  },
  {
   "cell_type": "code",
   "execution_count": 20,
   "metadata": {
    "collapsed": true
   },
   "outputs": [],
   "source": [
    "#Pasa bajas\n",
    "\n",
    "def pasaBajas(frecuencias,intensidades):\n",
    "    fundamentalInd = np.where(abs(frecuencias)>2000)\n",
    "    pintensidades = intensidades.copy() \n",
    "    for i in fundamentalInd[0]:\n",
    "        pintensidades[i] = 0.0\n",
    "\n",
    "   \n",
    "    return pintensidades"
   ]
  },
  {
   "cell_type": "code",
   "execution_count": null,
   "metadata": {
    "collapsed": false
   },
   "outputs": [],
   "source": []
  },
  {
   "cell_type": "code",
   "execution_count": 21,
   "metadata": {
    "collapsed": false
   },
   "outputs": [],
   "source": [
    "#Pasa altas\n",
    "def pasaAltas(frecuencias,intensidades):\n",
    "    fundamentalInd = np.where(abs(frecuencias)<2000)\n",
    "    pintensidades = intensidades.copy() \n",
    "    for i in fundamentalInd[0]:\n",
    "        pintensidades[i] = 0.0\n",
    "\n",
    "   \n",
    "    return pintensidades"
   ]
  },
  {
   "cell_type": "code",
   "execution_count": 22,
   "metadata": {
    "collapsed": true
   },
   "outputs": [],
   "source": [
    "#Pasa bandas\n",
    "def pasaBandas(frecuencias, intensidades):\n",
    "    aElim  = elimFundamental(frecuencias, intensidades)\n",
    "    \n",
    "    pintensidades = intensidades.copy()\n",
    "    pintensidades = pintensidades-aElim\n",
    "    return pintensidades\n"
   ]
  },
  {
   "cell_type": "code",
   "execution_count": 23,
   "metadata": {
    "collapsed": false
   },
   "outputs": [],
   "source": [
    "fig, (ax1,ax2,ax3,ax4,ax5) = plt.subplots(5,sharey = True,sharex = True)\n",
    "# fig(figsize = (10,10))\n",
    "ax1.plot(xviolin,abs(yviolin),label=\"Violin normal\",c = \"b\")\n",
    "ax2.plot(xviolin,abs(elimFundamental(xviolin,yviolin)),label=\"Sin fundamental\",c='g')\n",
    "ax3.plot(xviolin,abs(pasaBajas(xviolin,yviolin)),label = \"PasaBajas\",c='r')\n",
    "ax4.plot(xviolin,abs(pasaAltas(xviolin,yviolin)),label = \"PasaAltas\",c='black')\n",
    "ax5.plot(xviolin,abs(pasaBandas(xviolin,yviolin)),label = \"PasaBandas\",c='orange')\n",
    "ax1.set_title(\"Filtros\",fontsize = 20)\n",
    "ax5.set_xlabel(r\"Frecuencia $(Hz)$\")\n",
    "\n",
    "ax1.set_ylabel(\"Amplitud\")\n",
    "ax2.set_ylabel(\"Amplitud\")\n",
    "ax3.set_ylabel(\"Amplitud\")\n",
    "ax4.set_ylabel(\"Amplitud\")\n",
    "ax5.set_ylabel(\"Amplitud\")\n",
    "\n",
    "\n",
    "ax1.set_xlim(-10000,10000)\n",
    "ax2.set_xlim(-10000,10000)\n",
    "ax3.set_xlim(-10000,10000)\n",
    "ax4.set_xlim(-10000,10000)\n",
    "ax5.set_xlim(-10000,10000)\n",
    "\n",
    "ax1.set_ylim(0,600)\n",
    "ax2.set_ylim(0,600)\n",
    "ax3.set_ylim(0,600)\n",
    "ax4.set_ylim(0,600)\n",
    "ax5.set_ylim(0,600)\n",
    "\n",
    "ax1.legend()\n",
    "ax2.legend()\n",
    "ax3.legend()\n",
    "ax4.legend()\n",
    "ax5.legend()\n",
    "\n",
    "plt.savefig(\"ViolinFiltros.pdf\")\n",
    "# plt.show()\n",
    "plt.close()\n"
   ]
  },
  {
   "cell_type": "code",
   "execution_count": null,
   "metadata": {
    "collapsed": false
   },
   "outputs": [],
   "source": []
  },
  {
   "cell_type": "code",
   "execution_count": 24,
   "metadata": {
    "collapsed": false
   },
   "outputs": [],
   "source": [
    "sinFund = elimFundamental(xviolin,yviolin)\n",
    "pasaBajas = pasaBajas(xviolin,yviolin)\n",
    "pasaAltas =(pasaAltas(xviolin,yviolin))\n",
    "pasaBandas = (pasaBandas(xviolin,yviolin))\n",
    "\n",
    "\n",
    "\n",
    "\n",
    "wav.write(\"violin_pico.wav\", datViolin[0], ifft(sinFund).real)\n",
    "wav.write(\"violin_pasabajos.wav\", datViolin[0], ifft(pasaBajas).real)\n",
    "wav.write(\"violin_pasaaltos.wav\", datViolin[0], ifft(pasaAltas).real)\n",
    "wav.write(\"violin_pasabanda.wav\", datViolin[0], ifft(pasaBandas).real)"
   ]
  },
  {
   "cell_type": "code",
   "execution_count": null,
   "metadata": {
    "collapsed": true
   },
   "outputs": [],
   "source": []
  },
  {
   "cell_type": "code",
   "execution_count": null,
   "metadata": {
    "collapsed": true
   },
   "outputs": [],
   "source": []
  },
  {
   "cell_type": "code",
   "execution_count": null,
   "metadata": {
    "collapsed": true
   },
   "outputs": [],
   "source": []
  },
  {
   "cell_type": "code",
   "execution_count": null,
   "metadata": {
    "collapsed": true
   },
   "outputs": [],
   "source": []
  }
 ],
 "metadata": {
  "anaconda-cloud": {},
  "kernelspec": {
   "display_name": "Python [Root]",
   "language": "python",
   "name": "Python [Root]"
  },
  "language_info": {
   "codemirror_mode": {
    "name": "ipython",
    "version": 3
   },
   "file_extension": ".py",
   "mimetype": "text/x-python",
   "name": "python",
   "nbconvert_exporter": "python",
   "pygments_lexer": "ipython3",
   "version": "3.5.2"
  }
 },
 "nbformat": 4,
 "nbformat_minor": 0
}
