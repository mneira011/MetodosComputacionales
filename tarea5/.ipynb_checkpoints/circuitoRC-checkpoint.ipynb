{
 "cells": [
  {
   "cell_type": "code",
   "execution_count": 1,
   "metadata": {
    "collapsed": true
   },
   "outputs": [],
   "source": [
    "import numpy as np\n",
    "import matplotlib.pyplot as plt\n",
    "%matplotlib inline"
   ]
  },
  {
   "cell_type": "code",
   "execution_count": 28,
   "metadata": {
    "collapsed": true
   },
   "outputs": [],
   "source": [
    "def likelihood(y_obs, y_model):\n",
    "    chi_squared = (1.0/2.0)*sum((y_obs-y_model)**2)\n",
    "    print(chi_squared)\n",
    "    print(np.exp(-chi_squared))\n",
    "    return np.exp(-chi_squared)"
   ]
  },
  {
   "cell_type": "code",
   "execution_count": 6,
   "metadata": {
    "collapsed": true
   },
   "outputs": [],
   "source": [
    "def my_model(t, R, C):\n",
    "    return 10*C*(1-np.exp(-t/(R*C)))"
   ]
  },
  {
   "cell_type": "code",
   "execution_count": 16,
   "metadata": {
    "collapsed": false
   },
   "outputs": [],
   "source": [
    "data = np.loadtxt(\"CircuitoRC.txt\")\n",
    "t = data[:,0]\n",
    "y = data[:,0]\n",
    "ITERACIONES = 1000"
   ]
  },
  {
   "cell_type": "code",
   "execution_count": 24,
   "metadata": {
    "collapsed": false
   },
   "outputs": [],
   "source": [
    "R_walk = np.zeros(ITERACIONES) #this is an empty list to keep all the steps\n",
    "C_walk = np.zeros(ITERACIONES)\n",
    "l_walk = np.zeros(ITERACIONES)\n",
    "\n",
    "R_walk[0]= np.random.random()\n",
    "C_walk[0]=  np.random.random()\n",
    "\n",
    "y_init = my_model(t, R_walk[0], C_walk[0])\n",
    "l_walk[0] = likelihood(y, y_init)\n",
    "# print(R_walk[0])\n",
    "# print(C_walk[0])\n",
    "# print(l_walk)"
   ]
  },
  {
   "cell_type": "code",
   "execution_count": 29,
   "metadata": {
    "collapsed": false
   },
   "outputs": [
    {
     "name": "stdout",
     "output_type": "stream",
     "text": [
      "4150275.70992\n",
      "0.0\n"
     ]
    },
    {
     "data": {
      "text/plain": [
       "0.0"
      ]
     },
     "execution_count": 29,
     "metadata": {},
     "output_type": "execute_result"
    }
   ],
   "source": [
    "likelihood(y,y_init)"
   ]
  },
  {
   "cell_type": "code",
   "execution_count": null,
   "metadata": {
    "collapsed": true
   },
   "outputs": [],
   "source": [
    "\n",
    "for i in range(ITERACIONES):\n",
    "    R_prime = np.random.normal(R_walk[i], 0.1) \n",
    "    C_prime = np.random.normal(C_walk[i], 0.1)\n",
    "\n",
    "    y_init = my_model(t, R_walk[i], C_walk[i])\n",
    "    y_prime = my_model(t, R_prime, C_prime)\n",
    "    \n",
    "    l_prime = likelihood(y, y_prime)\n",
    "    l_init = likelihood(y, y_init)\n",
    "    \n",
    "    alpha = l_prime/l_init\n",
    "    if(alpha>=1.0):\n",
    "        R_walk[i+1]  = R_prime\n",
    "        C_walk[i+1]  = C_prime\n",
    "        l_walk[i+1] =  l_prime\n",
    "    else:\n",
    "        beta = np.random.random()\n",
    "        if(beta<=alpha):\n",
    "            R_walk[i+1]  = R_prime\n",
    "            C_walk[i+1]  = C_prime\n",
    "            l_walk[i+1] =  l_prime\n",
    "        else:\n",
    "            R_walk[i+1]  = R_walk[i]\n",
    "            C_walk[i+1]  = C_walk[i]\n",
    "            l_walk[i+1] =  l_walk[i]"
   ]
  }
 ],
 "metadata": {
  "anaconda-cloud": {},
  "kernelspec": {
   "display_name": "Python [Root]",
   "language": "python",
   "name": "Python [Root]"
  },
  "language_info": {
   "codemirror_mode": {
    "name": "ipython",
    "version": 3
   },
   "file_extension": ".py",
   "mimetype": "text/x-python",
   "name": "python",
   "nbconvert_exporter": "python",
   "pygments_lexer": "ipython3",
   "version": "3.5.2"
  }
 },
 "nbformat": 4,
 "nbformat_minor": 0
}
