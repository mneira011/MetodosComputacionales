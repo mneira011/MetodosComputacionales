{
 "cells": [
  {
   "cell_type": "markdown",
   "metadata": {
    "collapsed": false
   },
   "source": [
    "###### import numpy as np\n",
    "import matplotlib.pyplot as plt\n",
    "%pylab inline"
   ]
  },
  {
   "cell_type": "code",
   "execution_count": 2,
   "metadata": {
    "collapsed": false
   },
   "outputs": [
    {
     "name": "stdout",
     "output_type": "stream",
     "text": [
      "Populating the interactive namespace from numpy and matplotlib\n"
     ]
    }
   ],
   "source": [
    "import matplotlib.pyplot as plt\n",
    "%pylab inline"
   ]
  },
  {
   "cell_type": "code",
   "execution_count": 3,
   "metadata": {
    "collapsed": false
   },
   "outputs": [],
   "source": [
    "Arad,Prad,VGas,VDisk,VBul,Vel,e_Vel = np.loadtxt(\"RotationCurve_F571-8.txt\",delimiter=' ', usecols=(0, 1,2,3,4,5,6), unpack=True)"
   ]
  },
  {
   "cell_type": "code",
   "execution_count": 4,
   "metadata": {
    "collapsed": false
   },
   "outputs": [
    {
     "data": {
      "image/png": "[encoded data removed]",
      "text/plain": [
       "<matplotlib.figure.Figure at 0x7f3197b92278>"
      ]
     },
     "metadata": {},
     "output_type": "display_data"
    }
   ],
   "source": [
    "\n",
    "plt.scatter(Prad,Vel,c='black', label = \"\")\n",
    "plt.scatter(Prad,VGas+VDisk+VBul,c='g')\n",
    "plt.show()"
   ]
  },
  {
   "cell_type": "code",
   "execution_count": 5,
   "metadata": {
    "collapsed": false
   },
   "outputs": [
    {
     "ename": "NameError",
     "evalue": "name 'DatosRadioSonda' is not defined",
     "output_type": "error",
     "traceback": [
      "\u001b[1;31m---------------------------------------------------------------------------\u001b[0m",
      "\u001b[1;31mNameError\u001b[0m                                 Traceback (most recent call last)",
      "\u001b[1;32m<ipython-input-5-fdc5eec5a140>\u001b[0m in \u001b[0;36m<module>\u001b[1;34m()\u001b[0m\n\u001b[1;32m----> 1\u001b[1;33m \u001b[0mDatosRadioSonda\u001b[0m\u001b[1;33m.\u001b[0m\u001b[0mdat\u001b[0m\u001b[1;33m\u001b[0m\u001b[0m\n\u001b[0m",
      "\u001b[1;31mNameError\u001b[0m: name 'DatosRadioSonda' is not defined"
     ]
    }
   ],
   "source": [
    "DatosRadioSonda.dat "
   ]
  },
  {
   "cell_type": "code",
   "execution_count": 3,
   "metadata": {
    "collapsed": false
   },
   "outputs": [],
   "source": [
    "datos = open(\"DatosRadioSonda.dat\")"
   ]
  },
  {
   "cell_type": "code",
   "execution_count": 4,
   "metadata": {
    "collapsed": false
   },
   "outputs": [
    {
     "name": "stdout",
     "output_type": "stream",
     "text": [
      "['  752.0   2546   11.2    5.2     67   7.43    100      2  308.5  331.5  309.9\\n', '  734.2   2743    9.3    5.6     78   7.81    355      2  308.5  332.6  309.9\\n', '  728.0   2813    8.6    5.7     82   7.95     22      2  308.5  333.1  310.0\\n', '  709.0   3031   10.4    0.4     50   5.59    105      2  312.8  330.6  313.9\\n', '  700.0   3136    9.8    0.8     53   5.83    145      2  313.3  331.9  314.4\\n', '  681.9   3353    8.2    0.2     57   5.71    115     13  313.9  332.2  315.0\\n', '  661.0   3610    6.4   -0.6     61   5.57    107     20  314.6  332.6  315.7\\n', '  657.2   3658    6.4   -2.7     52   4.80    105     21  315.1  330.7  316.1\\n', '  633.3   3962    6.2  -16.1     18   1.73     95     37  318.3  324.3  318.6\\n', '  632.0   3979    6.2  -16.8     17   1.63     95     37  318.5  324.2  318.8\\n', '  621.0   4122    5.2  -23.8     10   0.91     98     36  318.9  322.2  319.1\\n', '  610.1   4267    4.3  -13.8     25   2.17    100     35  319.6  327.0  320.0\\n', '  606.0   4321    4.0  -10.0     35   2.97    101     34  319.8  329.8  320.4\\n', '  600.0   4402    3.8  -16.2     22   1.81    102     32  320.5  326.8  320.8\\n', '  597.0   4443    3.2   -6.8     48   3.87    103     32  320.2  333.1  321.0\\n', '  592.0   4511    3.4  -22.6     13   1.06    104     30  321.2  325.1  321.4\\n', '  569.0   4832    1.0   -8.0     51   3.70    109     24  322.1  334.5  322.8\\n', '  565.8   4877    1.3   -9.3     45   3.36    110     23  323.0  334.4  323.6\\n', '  563.0   4917    1.6  -10.4     41   3.09    108     22  323.8  334.4  324.4\\n', '  549.0   5120    0.0  -10.0     47   3.27     98     17  324.2  335.4  324.8\\n', '  544.7   5182   -0.6  -10.5     47   3.17     95     16  324.2  335.1  324.9\\n', '  504.4   5791   -6.2  -15.3     49   2.32    110     10  324.6  332.7  325.1\\n', '  501.0   5844   -6.7  -15.7     49   2.26    102      6  324.6  332.5  325.1\\n', '  500.0   5860   -6.9  -15.9     49   2.23    100      5  324.6  332.3  325.0\\n', '  491.0   6002   -7.7  -20.7     34   1.51     85      6  325.3  330.7  325.6\\n', '  487.0   6065   -6.9  -29.9     14   0.66     78      6  327.0  329.5  327.1\\n', '  485.1   6096   -7.0  -30.8     13   0.61     75      6  327.3  329.6  327.4\\n', '  466.4   6401   -7.8  -39.5      6   0.27     65     10  329.9  331.0  330.0\\n', '  452.0   6645   -8.5  -46.5      3   0.13     69     12  332.1  332.6  332.1\\n', '  451.0   6662   -8.5  -46.5      3   0.13     69     13  332.3  332.8  332.3\\n', '  448.4   6706   -8.8  -46.7      3   0.13     70     13  332.4  332.9  332.4\\n', '  430.9   7010  -11.1  -47.9      3   0.12     50     14  333.3  333.8  333.4\\n', '  414.1   7315  -13.3  -49.2      3   0.10     20     23  334.2  334.7  334.3\\n', '  400.0   7580  -15.3  -50.3      3   0.10     15     26  335.0  335.4  335.0\\n', '  397.9   7620  -15.6  -50.3      3   0.10     20     24  335.1  335.5  335.1\\n', '  381.9   7925  -18.2  -50.6      4   0.10     10     28  335.6  336.1  335.6\\n', '  379.0   7983  -18.7  -50.7      4   0.10      6     26  335.7  336.1  335.8\\n', '  361.0   8343  -19.9  -38.9     17   0.37    339     17  338.8  340.3  338.9\\n', '  360.0   8364  -19.9  -38.9     17   0.37    338     17  339.1  340.6  339.2\\n', '  351.7   8534  -21.4  -39.0     19   0.37    325     12  339.3  340.8  339.4\\n', '  337.2   8839  -24.2  -39.2     24   0.38    330     10  339.6  341.1  339.7\\n', '  323.4   9144  -27.0  -39.4     30   0.39    350      2  339.9  341.5  340.0\\n', '  316.0   9311  -28.5  -39.5     34   0.39     63      6  340.0  341.6  340.1\\n', '  309.9   9449  -29.5  -38.2     42   0.46    125     10  340.5  342.4  340.6\\n', '  300.0   9680  -31.1  -36.1     61   0.59    140     19  341.4  343.8  341.6\\n', '  294.0   9823  -32.3  -35.3     75   0.65    142     20  341.7  344.3  341.8\\n', '  284.3  10058  -33.7  -38.0     65   0.51    145     21  343.0  345.1  343.1\\n', '  272.0  10369  -35.5  -41.5     54   0.37    148     22  344.7  346.3  344.8\\n', '  260.5  10668  -38.2  -42.4     65   0.35    150     22  345.0  346.5  345.1\\n', '  253.0  10868  -40.1  -43.0     74   0.34    150     24  345.1  346.6  345.2\\n', '  250.0  10950  -40.1  -43.0     74   0.34    150     25  346.3  347.8  346.4\\n', '  248.0  11005  -41.3  -43.9     76   0.32    150     25  345.3  346.6  345.4\\n', '  238.2  11278  -43.1  -48.8     54   0.19    150     26  346.6  347.4  346.6\\n', '  234.0  11397  -43.9  -50.9     46   0.15    143     25  347.2  347.8  347.2\\n', '  225.0  11659  -46.1  -50.4     62   0.17    128     23  347.7  348.4  347.7\\n', '  217.3  11887  -48.0  -53.5     53   0.12    115     21  348.2  348.8  348.2\\n', '  201.0  12398  -52.3  -60.3     37   0.06    171     12  349.3  349.6  349.3\\n', '  200.0  12430  -52.7  -60.7     37   0.05    175     11  349.1  349.4  349.2\\n', '  179.8  13106  -58.9  -65.4     43   0.03    215      7  349.9  350.0  349.9\\n', '  173.0  13348  -61.1  -67.1     45   0.03    235     11  350.1  350.2  350.1\\n', '  171.2  13411  -61.6  -67.5     45   0.03    240     12  350.3  350.4  350.3\\n', '  155.0  14021  -66.2  -71.3     48   0.02    265     22  352.6  352.6  352.6\\n', '  150.0  14220  -67.7  -72.6     50   0.01    260     23  353.3  353.3  353.3\\n', '  139.0  14674  -71.9  -76.4     51   0.01    253     26  353.7  353.7  353.7\\n', '  137.0  14760  -71.5  -77.5     40   0.01    252     27  355.8  355.9  355.8\\n', '  126.3  15240  -72.4  -82.5     21   0.00    245     30  362.6  362.6  362.6\\n', '  119.9  15545  -73.0  -85.6     13   0.00    250     18  366.9  366.9  366.9\\n', '  119.0  15589  -73.1  -86.1     12   0.00    259     18  367.5  367.5  367.5\\n', '  113.7  15850  -75.1  -86.8     15   0.00    315     18  368.6  368.6  368.6\\n', '  100.0  16590  -80.7  -88.7     26   0.00     35     14  371.6  371.6  371.6\\n', '   96.9  16764  -82.3  -89.6     28   0.00     35     14  371.9  371.9  371.9\\n', '   83.7  17569  -89.5  -93.8     45   0.00     85      8  373.1  373.1  373.1\\n', '   82.0  17678  -87.9  -92.9     40   0.00    120      4  378.4  378.4  378.4\\n', '   77.6  17983  -83.5  -90.4     30   0.00     50     15  393.7  393.7  393.7\\n', '   77.4  17997  -83.3  -90.3     29   0.00     52     15  394.4  394.4  394.4\\n', '   74.0  18246  -84.7  -91.7     29   0.00     80     24  396.5  396.5  396.5\\n', '   73.4  18288  -82.6  -91.0     23   0.00     85     25  401.9  401.9  401.9\\n', '   72.8  18337  -80.1  -90.1     18   0.00     83     24  408.1  408.1  408.1\\n', '   70.0  18560  -78.1  -90.1     13   0.00     75     21  417.0  417.0  417.0\\n', '   69.6  18593  -77.5  -90.1     12   0.00    100     31  418.9  418.9  418.9\\n', '   64.9  19002  -70.1  -90.1      4   0.00     93     17  443.6  443.6  443.6\\n', '   62.8  19202  -69.5  -90.0      4   0.00     90     11  449.2  449.2  449.2\\n', '   60.8  19392  -68.9  -89.9      3   0.00    341     13  454.6  454.6  454.6\\n', '   59.6  19507  -69.0  -89.9      3   0.00    275     14  456.8  456.8  456.8\\n', '   56.7  19812  -69.4  -90.0      4   0.00    275     22  462.8  462.8  462.8\\n', '   51.2  20422  -70.0  -90.1      4   0.00    305     36  474.9  474.9  474.9\\n', '   50.6  20489  -70.1  -90.1      4   0.00    305     35  476.3  476.3  476.3\\n', '   50.0  20560  -69.9  -90.9      3   0.00    305     33  478.4  478.4  478.4\\n', '   44.0  21336  -65.9  -89.8      2   0.00    300     28  506.0  506.0  506.0\\n', '   41.8  21641  -64.3  -89.4      2   0.00    295     26  517.2  517.2  517.2\\n', '   39.8  21946  -62.7  -89.0      2   0.00    275     25  528.7  528.7  528.7\\n', '   38.5  22144  -61.7  -88.7      2   0.00    255     28  536.2  536.3  536.2\\n', '   37.8  22250  -61.9  -88.8      2   0.00    245     29  538.4  538.5  538.5\\n', '   34.3  22860  -62.9  -89.2      2   0.00    250     37  551.3  551.3  551.3\\n', '   32.6  23165  -63.4  -89.4      2   0.00    260     38  557.8  557.9  557.8\\n', '   32.2  23244  -63.5  -89.5      2   0.00    258     37  559.5  559.6  559.5\\n', '   30.0  23680  -61.1  -89.1      1   0.00    245     34  577.5  577.5  577.5\\n', '   28.2  24079  -59.8  -88.4      1   0.01    245     35  591.7  591.8  591.7\\n', '   22.1  25603  -54.7  -85.6      1   0.01    250     45  649.1  649.2  649.1\\n', '   21.9  25664  -54.5  -85.5      1   0.01    250     45  651.5  651.6  651.5\\n', '   20.1  26210  -56.9  -85.9      1   0.01    250     42  660.3  660.5  660.3\\n', '   19.1  26518  -58.9  -85.8      2   0.01    250     41  663.9  664.0  663.9\\n', '   10.8  29922  -81.1  -84.2     60   0.03                700.3  700.6  700.3\\n', '\\n']\n"
     ]
    }
   ],
   "source": [
    "c = datos.readline()\n",
    "c = datos.readline()\n",
    "c = datos.readline()\n",
    "c = datos.readline()\n",
    "c = datos.readline()\n",
    "c = datos.readline()\n",
    "c = datos.readline()\n",
    "c = datos.readlines()\n",
    "print(c)\n",
    "\n",
    "\n"
   ]
  },
  {
   "cell_type": "code",
   "execution_count": 5,
   "metadata": {
    "collapsed": false
   },
   "outputs": [],
   "source": [
    "alt = []\n",
    "temp = []\n",
    "for i in c:   \n",
    "    if(i!=\"\\n\"):\n",
    "#         print(i)\n",
    "        alt.append(i.split()[1])\n",
    "        temp.append(i.split()[2])"
   ]
  },
  {
   "cell_type": "code",
   "execution_count": 6,
   "metadata": {
    "collapsed": false
   },
   "outputs": [
    {
     "name": "stdout",
     "output_type": "stream",
     "text": [
      "['11.2', '9.3', '8.6', '10.4', '9.8', '8.2', '6.4', '6.4', '6.2', '6.2', '5.2', '4.3', '4.0', '3.8', '3.2', '3.4', '1.0', '1.3', '1.6', '0.0', '-0.6', '-6.2', '-6.7', '-6.9', '-7.7', '-6.9', '-7.0', '-7.8', '-8.5', '-8.5', '-8.8', '-11.1', '-13.3', '-15.3', '-15.6', '-18.2', '-18.7', '-19.9', '-19.9', '-21.4', '-24.2', '-27.0', '-28.5', '-29.5', '-31.1', '-32.3', '-33.7', '-35.5', '-38.2', '-40.1', '-40.1', '-41.3', '-43.1', '-43.9', '-46.1', '-48.0', '-52.3', '-52.7', '-58.9', '-61.1', '-61.6', '-66.2', '-67.7', '-71.9', '-71.5', '-72.4', '-73.0', '-73.1', '-75.1', '-80.7', '-82.3', '-89.5', '-87.9', '-83.5', '-83.3', '-84.7', '-82.6', '-80.1', '-78.1', '-77.5', '-70.1', '-69.5', '-68.9', '-69.0', '-69.4', '-70.0', '-70.1', '-69.9', '-65.9', '-64.3', '-62.7', '-61.7', '-61.9', '-62.9', '-63.4', '-63.5', '-61.1', '-59.8', '-54.7', '-54.5', '-56.9', '-58.9', '-81.1']\n"
     ]
    }
   ],
   "source": [
    "print(temp)"
   ]
  },
  {
   "cell_type": "code",
   "execution_count": 7,
   "metadata": {
    "collapsed": false
   },
   "outputs": [
    {
     "data": {
      "text/plain": [
       "<matplotlib.collections.PathCollection at 0x7efe45b93198>"
      ]
     },
     "execution_count": 7,
     "metadata": {},
     "output_type": "execute_result"
    },
    {
     "data": {
      "image/png": "[encoded data removed]",
      "text/plain": [
       "<matplotlib.figure.Figure at 0x7efe47f68e10>"
      ]
     },
     "metadata": {},
     "output_type": "display_data"
    }
   ],
   "source": [
    "plt.scatter(alt,temp)"
   ]
  },
  {
   "cell_type": "code",
   "execution_count": 9,
   "metadata": {
    "collapsed": true
   },
   "outputs": [],
   "source": [
    "from scipy import interpolate "
   ]
  },
  {
   "cell_type": "code",
   "execution_count": 19,
   "metadata": {
    "collapsed": false
   },
   "outputs": [],
   "source": [
    "xs = linspace(2500,25000,150)\n",
    "\n",
    "tck  = interpolate.splrep(alt, temp,k=5)\n",
    "y_spline = interpolate.splev(xs,tck)\n"
   ]
  },
  {
   "cell_type": "code",
   "execution_count": 20,
   "metadata": {
    "collapsed": false
   },
   "outputs": [
    {
     "data": {
      "text/plain": [
       "[<matplotlib.lines.Line2D at 0x7efe40865630>]"
      ]
     },
     "execution_count": 20,
     "metadata": {},
     "output_type": "execute_result"
    },
    {
     "data": {
      "image/png": "[encoded data removed]",
      "text/plain": [
       "<matplotlib.figure.Figure at 0x7efe408de240>"
      ]
     },
     "metadata": {},
     "output_type": "display_data"
    }
   ],
   "source": [
    "plt.plot(xs,y_spline)"
   ]
  },
  {
   "cell_type": "code",
   "execution_count": 23,
   "metadata": {
    "collapsed": true
   },
   "outputs": [],
   "source": [
    "def diff_central(ys,xs):\n",
    "#     n_points = points\n",
    "#     x = np.linspace(start,end,n_points)\n",
    "    h = xs[1]-xs[0]\n",
    "    f = ys\n",
    "    f_prime_diff = (f[2:-1] - f[0:-3])/(2*h)\n",
    "    return (f_prime_diff)"
   ]
  },
  {
   "cell_type": "code",
   "execution_count": null,
   "metadata": {
    "collapsed": true
   },
   "outputs": [],
   "source": []
  }
 ],
 "metadata": {
  "kernelspec": {
   "display_name": "Python [Root]",
   "language": "python",
   "name": "Python [Root]"
  },
  "language_info": {
   "codemirror_mode": {
    "name": "ipython",
    "version": 3
   },
   "file_extension": ".py",
   "mimetype": "text/x-python",
   "name": "python",
   "nbconvert_exporter": "python",
   "pygments_lexer": "ipython3",
   "version": "3.5.2"
  }
 },
 "nbformat": 4,
 "nbformat_minor": 0
}
